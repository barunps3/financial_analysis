{
 "cells": [
  {
   "cell_type": "code",
   "execution_count": 1,
   "id": "7c9d205a-dd77-4e9a-ae15-aeafd53174d2",
   "metadata": {},
   "outputs": [
    {
     "name": "stdout",
     "output_type": "stream",
     "text": [
      "sys.version_info(major=3, minor=12, micro=2, releaselevel='final', serial=0)\n"
     ]
    }
   ],
   "source": [
    "## Echo Python Version to be sure it is from virtual environment\n",
    "import sys\n",
    "print(sys.version_info)"
   ]
  },
  {
   "cell_type": "code",
   "execution_count": 6,
   "id": "fabc1890-eef0-4792-86b8-0eb734e88cc1",
   "metadata": {},
   "outputs": [],
   "source": [
    "import pandas\n",
    "import math"
   ]
  },
  {
   "cell_type": "markdown",
   "id": "6d58fc92-0396-4e61-b55e-691eab1957d9",
   "metadata": {},
   "source": [
    "## Definitions\n",
    "1. **Nominal interest** rates are set by government. \n",
    "Also, for different period (such as 5, 10, 15, etc.. **Zinsbindungszeit**) of fixed interest (**Zinsbindungsfrist**) have different rates.\n",
    "Please [follow the graph](https://hypofriend.de/en/german-mortgage-calculator) to get present value of fixed interest rate for each period.\n",
    "3. Annual bank **nominal interest rate** is compounded over 12 months. Therefore, **periodic interest rate** = nominal_interest_rate / 12\n",
    "4. **Principal** amount does not include notary fees, real estate agent fees, grundwerbsteuer\n",
    "5. We as customers can decide on **principal repayment rate**. Cannot be lesser than 1.5%\n",
    "6. Fixed monthly payment can be derived by adding the periodic_interest_rate + periodic_prepayment_rate\n",
    "7. Based on fixed monthly payments, we can then calculate how many years we need to pay the loan (**Annuitätendarlehen Laufzeit**)"
   ]
  },
  {
   "cell_type": "markdown",
   "id": "01132195-f39d-4e6f-a68b-c22d784858f6",
   "metadata": {},
   "source": [
    "### Example Amortized Fixed Monthly Payment Calculator\n",
    "**number of compounding period** is fixed in the following case. <br/>\n",
    "However, in reality this is calculated based on fixed monthly payment rate. <br/>\n",
    "Following is an example using the amortized loan formula to calculate the fixed monthly payment"
   ]
  },
  {
   "cell_type": "code",
   "execution_count": 26,
   "id": "307933ce-f387-4c84-b803-e99bf858de4a",
   "metadata": {},
   "outputs": [
    {
     "name": "stdout",
     "output_type": "stream",
     "text": [
      "Periodic Interest Rate:  0.003183333333333333\n",
      "Total compounding period over 28 years:  336\n",
      "Fixed monthly payments:  485.0639865985084\n"
     ]
    }
   ],
   "source": [
    "# Using the amortized loan formula, calculating the fixed monthly payments\n",
    "PRINCIPAL_AMOUNT = 100000\n",
    "BANK_INTEREST_RATE = 3.82 / 100\n",
    "PREPAYMENT_RATE = 2.0\n",
    "MONTHS_IN_YEAR = 12\n",
    "ANNUAL_COMPOUNDING_PERIOD = MONTHS_IN_YEAR\n",
    "PERIODIC_INTEREST_RATE = BANK_INTEREST_RATE/ANNUAL_COMPOUNDING_PERIOD\n",
    "print(\"Periodic Interest Rate: \", PERIODIC_INTEREST_RATE)\n",
    "TOTAL_COMPOUNDING_PERIODS = 28 * ANNUAL_COMPOUNDING_PERIOD\n",
    "print(\"Total compounding period over 28 years: \", TOTAL_COMPOUNDING_PERIODS)\n",
    "INTEREST_RATE_POW = math.pow((1 + PERIODIC_INTEREST_RATE), TOTAL_COMPOUNDING_PERIODS)\n",
    "\n",
    "Fixed_Monthly_Payments = (PERIODIC_INTEREST_RATE * PRINCIPAL_AMOUNT * INTEREST_RATE_POW) / (INTEREST_RATE_POW - 1)\n",
    "print(\"Fixed monthly payments: \", Fixed_Monthly_Payments)"
   ]
  },
  {
   "cell_type": "markdown",
   "id": "8805b1c7-49f0-4ff2-b206-d69e3194e56f",
   "metadata": {},
   "source": [
    "## Calculator of Loan Period (Annuitätendarlehen Laufzeit)\n",
    "It can be calculated if following are known with this [formula](https://math.stackexchange.com/questions/3185889/how-do-i-solve-for-n-number-of-periods-in-a-loan-repayment-formula)\n",
    "* **principal**\n",
    "* **nominal interest rate**\n",
    "* **principal repayment rate**"
   ]
  },
  {
   "cell_type": "code",
   "execution_count": 29,
   "id": "ad4b36dd-ff95-45d7-91fc-5abc25cd3220",
   "metadata": {},
   "outputs": [
    {
     "name": "stdout",
     "output_type": "stream",
     "text": [
      "Periodic Interest Rate:  0.003183333333333333\n",
      "Periodic Principal Repayment Rate:  0.0016666666666666668\n",
      "Fixed monthly payment:  485.0\n",
      "Number of years to payback the loan:  28.006605346853167\n"
     ]
    }
   ],
   "source": [
    "# YOU CAN VARY ONLY THE FOLLOWING VALUES\n",
    "PRINCIPAL_AMOUNT = 100000\n",
    "BANK_INTEREST_RATE = 3.82 / 100\n",
    "PREPAYMENT_RATE = 2.0 / 100\n",
    "MONTHS_IN_YEAR = 12\n",
    "\n",
    "# Calculate Fixed Monthly Payments\n",
    "ANNUAL_COMPOUNDING_PERIOD = MONTHS_IN_YEAR\n",
    "PERIODIC_INTEREST_RATE = BANK_INTEREST_RATE / ANNUAL_COMPOUNDING_PERIOD\n",
    "print(\"Periodic Interest Rate: \", PERIODIC_INTEREST_RATE)\n",
    "PERIODIC_PRINCIPAL_REPAY_RATE = PREPAYMENT_RATE / ANNUAL_COMPOUNDING_PERIOD\n",
    "print(\"Periodic Principal Repayment Rate: \", PERIODIC_PRINCIPAL_REPAY_RATE)\n",
    "FIXED_MONTHLY_PAYMENT = (PERIODIC_INTEREST_RATE + PERIODIC_PRINCIPAL_REPAY_RATE) * PRINCIPAL_AMOUNT\n",
    "print(\"Fixed monthly payment: \", FIXED_MONTHLY_PAYMENT)\n",
    "\n",
    "# Calculate Total Loan Period\n",
    "LOAN_PERIOD = math.log(FIXED_MONTHLY_PAYMENT / (FIXED_MONTHLY_PAYMENT - (PERIODIC_INTEREST_RATE * PRINCIPAL_AMOUNT)), 1 + PERIODIC_INTEREST_RATE)\n",
    "LOAN_PERIOD_IN_YEARS = LOAN_PERIOD / MONTHS_IN_YEAR\n",
    "print(\"Number of years to payback the loan: \", LOAN_PERIOD_IN_YEARS)"
   ]
  }
 ],
 "metadata": {
  "kernelspec": {
   "display_name": "Python 3 (ipykernel)",
   "language": "python",
   "name": "python3"
  },
  "language_info": {
   "codemirror_mode": {
    "name": "ipython",
    "version": 3
   },
   "file_extension": ".py",
   "mimetype": "text/x-python",
   "name": "python",
   "nbconvert_exporter": "python",
   "pygments_lexer": "ipython3",
   "version": "3.12.2"
  }
 },
 "nbformat": 4,
 "nbformat_minor": 5
}
